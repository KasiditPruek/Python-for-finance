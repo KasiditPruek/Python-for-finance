{
 "cells": [
  {
   "cell_type": "code",
   "execution_count": 152,
   "id": "b4f0258a-fd8e-4a0a-ae67-486bdb5fbea2",
   "metadata": {},
   "outputs": [],
   "source": [
    "import os\n",
    "import pandas as pd\n",
    "import matplotlib.pyplot as plt \n",
    "import datetime as dt\n",
    "from datetime import timedelta\n",
    "from matplotlib import style\n",
    "import pandas_datareader.data as web\n",
    "import yfinance as yf"
   ]
  },
  {
   "cell_type": "code",
   "execution_count": 154,
   "id": "bc3fb69f-792b-42f3-a592-bf8ed944f2db",
   "metadata": {},
   "outputs": [
    {
     "name": "stdout",
     "output_type": "stream",
     "text": [
      "C:\\Users\\Kasidit\n"
     ]
    }
   ],
   "source": [
    "current_path = os.getcwd()\n",
    "print(current_path)"
   ]
  },
  {
   "cell_type": "code",
   "execution_count": 156,
   "id": "85c4a3f3-a84a-4120-8de2-27caae897bd9",
   "metadata": {},
   "outputs": [],
   "source": [
    "style.use('ggplot')"
   ]
  },
  {
   "cell_type": "code",
   "execution_count": 128,
   "id": "78049509-e4af-472e-b178-96270fd147f7",
   "metadata": {},
   "outputs": [
    {
     "name": "stdout",
     "output_type": "stream",
     "text": [
      "start date :  2024-04-23\n",
      "end date   :  2024-07-21\n"
     ]
    }
   ],
   "source": [
    "start = (dt.date.today() + timedelta(days=-3*30)).strftime(format='%Y-%m-%d')\n",
    "end = (dt.date.today() + timedelta(days=-1)).strftime(format='%Y-%m-%d')\n",
    "print('start date : ',start)\n",
    "print('end date   : ',end)"
   ]
  },
  {
   "cell_type": "code",
   "execution_count": 108,
   "id": "18c25ae1-9d22-4e9b-8bcc-2554d62ee00b",
   "metadata": {},
   "outputs": [],
   "source": [
    "# from pandas.tseries.offsets import DateOffset\n",
    "# dt.date.today() + DateOffset(months=3)"
   ]
  },
  {
   "cell_type": "code",
   "execution_count": 130,
   "id": "9cbaf104-7963-45c2-b9fd-b84f1668c199",
   "metadata": {},
   "outputs": [
    {
     "name": "stderr",
     "output_type": "stream",
     "text": [
      "[*********************100%%**********************]  1 of 1 completed"
     ]
    },
    {
     "name": "stdout",
     "output_type": "stream",
     "text": [
      "                 Open       High        Low      Close  Adj Close     Volume\n",
      "Date                                                                        \n",
      "2024-04-23  80.768997  82.768997  80.264000  82.422997  82.416229  438559000\n",
      "2024-04-24  83.949997  84.082001  79.182999  79.677002  79.670456  512208000\n",
      "2024-04-25  78.867996  83.322998  78.223000  82.632004  82.625214  424641000\n",
      "2024-04-26  83.818001  88.331001  83.387001  87.735001  87.727791  551011000\n",
      "2024-04-29  87.595001  87.991997  85.265999  87.757004  87.749794  388971000\n"
     ]
    },
    {
     "name": "stderr",
     "output_type": "stream",
     "text": [
      "\n"
     ]
    }
   ],
   "source": [
    "#Using yahoo finance api\n",
    "# get the data from today back to 3 months ago\n",
    "data = yf.download(\"NVDA\", start=start, end=end)\n",
    "print(data.head())"
   ]
  },
  {
   "cell_type": "code",
   "execution_count": 114,
   "id": "352a50ad-b27b-4681-b237-9a1b7bae036a",
   "metadata": {},
   "outputs": [
    {
     "data": {
      "text/html": [
       "<div>\n",
       "<style scoped>\n",
       "    .dataframe tbody tr th:only-of-type {\n",
       "        vertical-align: middle;\n",
       "    }\n",
       "\n",
       "    .dataframe tbody tr th {\n",
       "        vertical-align: top;\n",
       "    }\n",
       "\n",
       "    .dataframe thead th {\n",
       "        text-align: right;\n",
       "    }\n",
       "</style>\n",
       "<table border=\"1\" class=\"dataframe\">\n",
       "  <thead>\n",
       "    <tr style=\"text-align: right;\">\n",
       "      <th></th>\n",
       "      <th>Open</th>\n",
       "      <th>High</th>\n",
       "      <th>Low</th>\n",
       "      <th>Close</th>\n",
       "      <th>Adj Close</th>\n",
       "      <th>Volume</th>\n",
       "    </tr>\n",
       "    <tr>\n",
       "      <th>Date</th>\n",
       "      <th></th>\n",
       "      <th></th>\n",
       "      <th></th>\n",
       "      <th></th>\n",
       "      <th></th>\n",
       "      <th></th>\n",
       "    </tr>\n",
       "  </thead>\n",
       "  <tbody>\n",
       "    <tr>\n",
       "      <th>2000-01-03</th>\n",
       "      <td>0.098438</td>\n",
       "      <td>0.099219</td>\n",
       "      <td>0.091927</td>\n",
       "      <td>0.097526</td>\n",
       "      <td>0.089453</td>\n",
       "      <td>300912000</td>\n",
       "    </tr>\n",
       "    <tr>\n",
       "      <th>2000-01-04</th>\n",
       "      <td>0.095833</td>\n",
       "      <td>0.096094</td>\n",
       "      <td>0.090104</td>\n",
       "      <td>0.094922</td>\n",
       "      <td>0.087065</td>\n",
       "      <td>300480000</td>\n",
       "    </tr>\n",
       "    <tr>\n",
       "      <th>2000-01-05</th>\n",
       "      <td>0.092188</td>\n",
       "      <td>0.093750</td>\n",
       "      <td>0.090495</td>\n",
       "      <td>0.091797</td>\n",
       "      <td>0.084199</td>\n",
       "      <td>188352000</td>\n",
       "    </tr>\n",
       "    <tr>\n",
       "      <th>2000-01-06</th>\n",
       "      <td>0.091797</td>\n",
       "      <td>0.091797</td>\n",
       "      <td>0.082292</td>\n",
       "      <td>0.085807</td>\n",
       "      <td>0.078704</td>\n",
       "      <td>120480000</td>\n",
       "    </tr>\n",
       "    <tr>\n",
       "      <th>2000-01-07</th>\n",
       "      <td>0.085417</td>\n",
       "      <td>0.088151</td>\n",
       "      <td>0.084115</td>\n",
       "      <td>0.087240</td>\n",
       "      <td>0.080019</td>\n",
       "      <td>71184000</td>\n",
       "    </tr>\n",
       "  </tbody>\n",
       "</table>\n",
       "</div>"
      ],
      "text/plain": [
       "                Open      High       Low     Close  Adj Close     Volume\n",
       "Date                                                                    \n",
       "2000-01-03  0.098438  0.099219  0.091927  0.097526   0.089453  300912000\n",
       "2000-01-04  0.095833  0.096094  0.090104  0.094922   0.087065  300480000\n",
       "2000-01-05  0.092188  0.093750  0.090495  0.091797   0.084199  188352000\n",
       "2000-01-06  0.091797  0.091797  0.082292  0.085807   0.078704  120480000\n",
       "2000-01-07  0.085417  0.088151  0.084115  0.087240   0.080019   71184000"
      ]
     },
     "execution_count": 114,
     "metadata": {},
     "output_type": "execute_result"
    }
   ],
   "source": [
    "data.head()"
   ]
  },
  {
   "cell_type": "code",
   "execution_count": 134,
   "id": "d594a830-148d-4f6b-a16a-ab68db9a9534",
   "metadata": {},
   "outputs": [
    {
     "data": {
      "text/plain": [
       "<Axes: xlabel='Date'>"
      ]
     },
     "execution_count": 134,
     "metadata": {},
     "output_type": "execute_result"
    },
    {
     "data": {
      "image/png": "[encoded data removed]",
      "text/plain": [
       "<Figure size 640x480 with 1 Axes>"
      ]
     },
     "metadata": {},
     "output_type": "display_data"
    }
   ],
   "source": [
    "data.Close.plot()"
   ]
  },
  {
   "cell_type": "code",
   "execution_count": null,
   "id": "8f66b6c9-bc15-4c8a-b0bf-ead6b5f7f20e",
   "metadata": {},
   "outputs": [],
   "source": []
  }
 ],
 "metadata": {
  "kernelspec": {
   "display_name": "Python 3 (ipykernel)",
   "language": "python",
   "name": "python3"
  },
  "language_info": {
   "codemirror_mode": {
    "name": "ipython",
    "version": 3
   },
   "file_extension": ".py",
   "mimetype": "text/x-python",
   "name": "python",
   "nbconvert_exporter": "python",
   "pygments_lexer": "ipython3",
   "version": "3.12.4"
  }
 },
 "nbformat": 4,
 "nbformat_minor": 5
}
